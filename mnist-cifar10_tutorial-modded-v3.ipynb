{
 "cells": [
  {
   "cell_type": "code",
   "execution_count": 36,
   "metadata": {
    "collapsed": false
   },
   "outputs": [],
   "source": [
    "%matplotlib inline"
   ]
  },
  {
   "cell_type": "markdown",
   "metadata": {},
   "source": [
    "I've now used a network with cifar10 and played with the number of epochs to show that it matters how many times you train the network on the same data.\n",
    "\n",
    "MNIST can also be called into pytorch the same way that CIFAR10 was, but I intentionally avoided doing that.\n",
    "\n",
    "The point of modifying this code further to use the MNIST dataset downloaded from the internet was to show that I can use different datasets and know how to load them myself without relying on datasets provided by pytorch. "
   ]
  },
  {
   "cell_type": "markdown",
   "metadata": {},
   "source": [
    "\n",
    "Let's first import the tools (modules) from pytorch we'll need to get everything done:"
   ]
  },
  {
   "cell_type": "code",
   "execution_count": 37,
   "metadata": {
    "collapsed": false
   },
   "outputs": [],
   "source": [
    "import torch\n",
    "import torchvision\n",
    "import torchvision.transforms as transforms\n",
    "from torchvision import datasets\n",
    "import matplotlib.pyplot as plt\n",
    "import numpy as np"
   ]
  },
  {
   "cell_type": "markdown",
   "metadata": {},
   "source": [
    "The output of torchvision datasets are PILImage images of range [0, 1].\n",
    "We transform them to Tensors of normalized range [-1, 1]\n",
    "\n"
   ]
  },
  {
   "cell_type": "code",
   "execution_count": 38,
   "metadata": {
    "collapsed": false
   },
   "outputs": [],
   "source": [
    "transform = transforms.Compose([\n",
    "transforms.Pad(2),\n",
    "transforms.ToTensor(),\n",
    "])\n",
    "\n",
    "# MNIST is already 28x28 pixels uniformly across the dataset, so we don't need to transform \n",
    "# the data to make it uniform\n",
    "\n",
    "# We do need to resize the images to 32x32 from 28x28 to reuse the network architecture from cifar10, however\n",
    "# In this case, I've just added a 2px pad around each border of the images to make them 32x32\n",
    "\n",
    "\n",
    "# The ImageFolder function assumes the data is structured such that the folder containing \n",
    "# the images is the class for that image, which is how the MNIST dataset is structured\n",
    "trainset = datasets.ImageFolder(root='/Users/etheredgej/Desktop/MNIST/training/',\n",
    "                                           transform=transform)\n",
    "trainloader = torch.utils.data.DataLoader(trainset, batch_size=4,\n",
    "                                          shuffle=True, num_workers=2)\n",
    "\n",
    "testset = datasets.ImageFolder(root='/Users/etheredgej/Desktop/MNIST/testing/',\n",
    "                                           transform=transform)\n",
    "testloader = torch.utils.data.DataLoader(testset, batch_size=4,\n",
    "                                         shuffle=True, num_workers=2)\n",
    "\n",
    "# data loader is an alternative to PIL (python imaging library) that loads the images into a numpy array\n",
    "\n",
    "classes = ('0','1','2','3','4','5','6','7','8','9')"
   ]
  },
  {
   "cell_type": "markdown",
   "metadata": {},
   "source": [
    "We transformed the images even though they're of uniform size. \n",
    "MNIST is already 28x28 pixels uniformly across the dataset, so we don't need to transform the data to make it uniform.\n",
    "\n",
    "We do need to resize the images to 32x32 from 28x28 to reuse the network architecture from cifar10, however.\n",
    "In this case, I've just added a 2px pad around each border of the images to make them 32x32.\n",
    "\n",
    "In the future, I'll use an appropriately sized network, since using a larger than necessary number of nodes in our input layer is a waste. \n",
    "\n",
    "The pixels are just ignored after training, as we would hope, but it's not an elegant solution.\n",
    "\n",
    "The ImageFolder function assumes the data is structured such that the folder containing the images is the class for that image, which is how the MNIST dataset is structured.\n",
    "\n",
    "The torchvision data loader is an alternative to PIL (python imaging library). Using PIL, we would loads the images into a numpy array of pixel values."
   ]
  },
  {
   "cell_type": "code",
   "execution_count": 39,
   "metadata": {
    "collapsed": true
   },
   "outputs": [],
   "source": [
    "from __future__ import print_function, division\n",
    "import os\n",
    "import torch\n",
    "import pandas as pd\n",
    "from skimage import io, transform\n",
    "import numpy as np\n",
    "import matplotlib.pyplot as plt\n",
    "from torch.utils.data import Dataset, DataLoader\n",
    "from torchvision import transforms, utils\n",
    "\n",
    "# Ignore warnings\n",
    "import warnings\n",
    "warnings.filterwarnings(\"ignore\")\n",
    "\n",
    "plt.ion()   # interactive mode\n",
    "\n",
    "# why did I add these again?"
   ]
  },
  {
   "cell_type": "markdown",
   "metadata": {},
   "source": [
    "Let's show some of the normalized training images:\n"
   ]
  },
  {
   "cell_type": "code",
   "execution_count": 40,
   "metadata": {
    "collapsed": false
   },
   "outputs": [
    {
     "name": "stdout",
     "output_type": "stream",
     "text": [
      "Ground truth:      1     1     4     4\n"
     ]
    },
    {
     "data": {
      "image/png": "[encoded data removed]",
      "text/plain": [
       "<matplotlib.figure.Figure at 0x10c32b630>"
      ]
     },
     "metadata": {},
     "output_type": "display_data"
    }
   ],
   "source": [
    "# get some random training images\n",
    "dataiter = iter(trainloader) # define dataiter to pull next batch of images from training dataset\n",
    "images, labels = dataiter.next() # get the next set of 4 images with corresponding labels\n",
    "\n",
    "# show normalized images\n",
    "img=torchvision.utils.make_grid(images)\n",
    "plt.imshow(np.transpose(img.numpy(), (1, 2, 0)))\n",
    "# print labels\n",
    "print('Ground truth: ', ' '.join('%5s' % classes[labels[j]] for j in range(4)))"
   ]
  },
  {
   "cell_type": "markdown",
   "metadata": {},
   "source": [
    "Let's compare this to a sample of the unnormalized images:"
   ]
  },
  {
   "cell_type": "code",
   "execution_count": 41,
   "metadata": {
    "collapsed": false
   },
   "outputs": [
    {
     "name": "stdout",
     "output_type": "stream",
     "text": [
      "Ground truth:      2     4     4     5\n"
     ]
    },
    {
     "data": {
      "image/png": "[encoded data removed]",
      "text/plain": [
       "<matplotlib.figure.Figure at 0x10d324080>"
      ]
     },
     "metadata": {},
     "output_type": "display_data"
    }
   ],
   "source": [
    "images, labels = dataiter.next() # get the next set of 4 images with corresponding labels\n",
    "\n",
    "# show unnormalized images\n",
    "img=torchvision.utils.make_grid(images)\n",
    "img = img / 2 + 0.5     # unnormalize the images\n",
    "plt.imshow(np.transpose(img.numpy(), (1, 2, 0)))\n",
    "# print labels\n",
    "print('Ground truth: ', ' '.join('%5s' % classes[labels[j]] for j in range(4)))"
   ]
  },
  {
   "cell_type": "markdown",
   "metadata": {},
   "source": [
    "I'm reusing the 32x32 3-channel network from CIFAR10. In the future I'll use an appropriately sized network (1 channel 28x28), but we'll see that this still works quite well."
   ]
  },
  {
   "cell_type": "code",
   "execution_count": 42,
   "metadata": {
    "collapsed": false
   },
   "outputs": [],
   "source": [
    "from torch.autograd import Variable\n",
    "import torch.nn as nn\n",
    "import torch.nn.functional as F\n",
    "\n",
    "\n",
    "class Net(nn.Module):\n",
    "    def __init__(self):\n",
    "        super(Net, self).__init__()\n",
    "        self.conv1 = nn.Conv2d(3, 6, 5)\n",
    "        self.pool = nn.MaxPool2d(2, 2)\n",
    "        self.conv2 = nn.Conv2d(6, 16, 5)\n",
    "        self.fc1 = nn.Linear(16 * 5 * 5, 120)\n",
    "        self.fc2 = nn.Linear(120, 84)\n",
    "        self.fc3 = nn.Linear(84, 10)\n",
    "\n",
    "    def forward(self, x):\n",
    "        x = self.pool(F.relu(self.conv1(x)))\n",
    "        x = self.pool(F.relu(self.conv2(x)))\n",
    "        x = x.view(-1, 16 * 5 * 5)\n",
    "        x = F.relu(self.fc1(x))\n",
    "        x = F.relu(self.fc2(x))\n",
    "        x = self.fc3(x)\n",
    "        return x\n",
    "\n",
    "\n",
    "net = Net()"
   ]
  },
  {
   "cell_type": "markdown",
   "metadata": {},
   "source": [
    "3. Define a Loss function and optimizer\n",
    "^^^^^^^^^^^^^^^^^^^^^^^^^^^^^^^^^^^^^^^\n",
    "Let's use a Classification Cross-Entropy loss and SGD with momentum\n",
    "\n"
   ]
  },
  {
   "cell_type": "code",
   "execution_count": 43,
   "metadata": {
    "collapsed": false
   },
   "outputs": [],
   "source": [
    "import torch.optim as optim\n",
    "\n",
    "criterion = nn.CrossEntropyLoss()\n",
    "optimizer = optim.SGD(net.parameters(), lr=0.001, momentum=0.9)"
   ]
  },
  {
   "cell_type": "markdown",
   "metadata": {},
   "source": [
    "These lr and momentum variables are where the interesting things happen.\n",
    "\n",
    "All learning algorithms are solving gradient descent, and a learning rate that's too high or too low are both bad.\n",
    "\n",
    "The learning rate weights how large a step to take during gradient descent.\n",
    "\n",
    "Momentum is how much we're incorporating the previous direction, which is important because we can only load a subset of the data into memory.\n",
    "\n",
    "Adam is a better optimizer?"
   ]
  },
  {
   "cell_type": "markdown",
   "metadata": {},
   "source": [
    "Now we'll train the network.\n",
    "\n",
    "This is when things start to get interesting.\n",
    "\n",
    "Next we will loop over our data iterator, and feed the inputs to the network and optimize.\n",
    "\n"
   ]
  },
  {
   "cell_type": "code",
   "execution_count": 44,
   "metadata": {
    "collapsed": false
   },
   "outputs": [
    {
     "name": "stdout",
     "output_type": "stream",
     "text": [
      "[1,  2000] loss: 1.231\n",
      "[1,  4000] loss: 0.221\n",
      "[1,  6000] loss: 0.154\n",
      "[1,  8000] loss: 0.124\n",
      "[1, 10000] loss: 0.103\n",
      "[1, 12000] loss: 0.100\n",
      "[1, 14000] loss: 0.089\n",
      "Accuracy of the network on the 10000 test images: 97 %\n",
      "Accuracy of     0 : 98 %\n",
      "Accuracy of     1 : 98 %\n",
      "Accuracy of     2 : 97 %\n",
      "Accuracy of     3 : 98 %\n",
      "Accuracy of     4 : 97 %\n",
      "Accuracy of     5 : 99 %\n",
      "Accuracy of     6 : 96 %\n",
      "Accuracy of     7 : 99 %\n",
      "Accuracy of     8 : 89 %\n",
      "Accuracy of     9 : 96 %\n",
      "[2,  2000] loss: 0.070\n",
      "[2,  4000] loss: 0.072\n",
      "[2,  6000] loss: 0.072\n",
      "[2,  8000] loss: 0.070\n",
      "[2, 10000] loss: 0.062\n",
      "[2, 12000] loss: 0.061\n",
      "[2, 14000] loss: 0.057\n",
      "Accuracy of the network on the 10000 test images: 98 %\n",
      "Accuracy of     0 : 99 %\n",
      "Accuracy of     1 : 97 %\n",
      "Accuracy of     2 : 99 %\n",
      "Accuracy of     3 : 99 %\n",
      "Accuracy of     4 : 98 %\n",
      "Accuracy of     5 : 98 %\n",
      "Accuracy of     6 : 97 %\n",
      "Accuracy of     7 : 98 %\n",
      "Accuracy of     8 : 99 %\n",
      "Accuracy of     9 : 98 %\n",
      "Finished Training\n"
     ]
    }
   ],
   "source": [
    "for epoch in range(2):  # loop over the dataset multiple times \n",
    "\n",
    "    running_loss = 0.0\n",
    "    for i, data in enumerate(trainloader, 0):\n",
    "        # get the inputs\n",
    "        inputs, labels = data\n",
    "\n",
    "        # wrap them in Variable\n",
    "        inputs, labels = Variable(inputs), Variable(labels)\n",
    "\n",
    "        # zero the parameter gradients\n",
    "        optimizer.zero_grad()\n",
    "\n",
    "        # forward + backward + optimize\n",
    "        outputs = net(inputs)\n",
    "        loss = criterion(outputs, labels)\n",
    "        loss.backward()\n",
    "        optimizer.step()\n",
    "\n",
    "        # print statistics\n",
    "        running_loss += loss.data[0]\n",
    "        if i % 2000 == 1999:    # print every 2000 mini-batches\n",
    "            print('[%d, %5d] loss: %.3f' %\n",
    "                  (epoch + 1, i + 1, running_loss / 2000))\n",
    "            running_loss = 0.0\n",
    "\n",
    "    correct = 0\n",
    "    total = 0\n",
    "    for data in testloader:\n",
    "        images, labels = data\n",
    "        outputs = net(Variable(images))\n",
    "        _, predicted = torch.max(outputs.data, 1)\n",
    "        total += labels.size(0)\n",
    "        correct += (predicted == labels).sum()\n",
    "\n",
    "    print('Accuracy of the network on the 10000 test images: %d %%' % (\n",
    "        100 * correct / total))\n",
    "\n",
    "    class_correct = list(0. for i in range(10))\n",
    "    class_total = list(0. for i in range(10))\n",
    "    for data in testloader:\n",
    "        images, labels = data\n",
    "        outputs = net(Variable(images))\n",
    "        _, predicted = torch.max(outputs.data, 1)\n",
    "        c = (predicted == labels).squeeze()\n",
    "        for i in range(4):\n",
    "            label = labels[i]\n",
    "            class_correct[label] += c[i]\n",
    "            class_total[label] += 1\n",
    "\n",
    "    for i in range(10):\n",
    "        print('Accuracy of %5s : %2d %%' % (\n",
    "            classes[i], 100 * class_correct[i] / class_total[i]))\n",
    "    \n",
    "print('Finished Training')\n",
    "\n",
    "# When does the algorithm stop learning and start over-fitting?\n",
    "# We want to determine this trend and then cut off our training before over-fitting starts.\n",
    "# I updated the number of epochs from 5 to 30 (5 epochs means it sees each image 5 times)\n",
    "# Tensorboard version for pytorch to show the loss over time\n",
    "# or just graph the loss numbers over time to observe the trends\n",
    "\n",
    "# Learning rate = How fast to perform gradient descent\n",
    "\n",
    "# Check whether cats are under-represented in the training dataset, since it performed by far worst on cats.\n",
    "\n",
    "# Put in an SVM classifier into this. - I'll need to find out how to load all the data at once rather than use the dataloader from this set.\n",
    "\n",
    "# Try using 3 classifiers instead of 10.\n",
    "# Computers, trees, something else - 10 images of each\n",
    "# Test on the training dataset - it will perform perfectly\n",
    "# Alternatively, find another dataset to use, so long as I'm loading it myself rather than using the dataloader\n",
    "\n",
    "# Try on non-image data as well"
   ]
  },
  {
   "cell_type": "markdown",
   "metadata": {},
   "source": [
    "I've printed the averaged accuracy along with the accuracy for each digit after each epoch.\n",
    "\n",
    "We can see that this is a much easier problem to solve than the CIFAR10 dataset. The convolution network gets 97% accuracy after a single round of training and 98% accuracy after 2 rounds. In a previous run, I got 98% accuracy after a single round of training, so we can see that this is pretty consistent between training sessions.\n",
    "\n",
    "We can also see that it performs quite well on every digit. There aren't examples of poorly classified digits."
   ]
  },
  {
   "cell_type": "markdown",
   "metadata": {},
   "source": [
    "I've already added accuracy checks at each epoch, but now that we've trained the network, let's test it again to see how it performs re-using the more fun visual representation from before:"
   ]
  },
  {
   "cell_type": "code",
   "execution_count": 51,
   "metadata": {
    "collapsed": false
   },
   "outputs": [
    {
     "name": "stdout",
     "output_type": "stream",
     "text": [
      "Ground truth:      1     4     7     7\n"
     ]
    },
    {
     "data": {
      "image/png": "[encoded data removed]",
      "text/plain": [
       "<matplotlib.figure.Figure at 0x10cf7c9e8>"
      ]
     },
     "metadata": {},
     "output_type": "display_data"
    }
   ],
   "source": [
    "images, labels = dataiter.next() # get the next set of 4 images with corresponding labels\n",
    "\n",
    "# show normalized images\n",
    "img=torchvision.utils.make_grid(images)\n",
    "plt.imshow(np.transpose(img.numpy(), (1, 2, 0)))\n",
    "# print labels\n",
    "print('Ground truth: ', ' '.join('%5s' % classes[labels[j]] for j in range(4)))"
   ]
  },
  {
   "cell_type": "markdown",
   "metadata": {},
   "source": [
    "Okay, now let us see what the neural network thinks these examples above are:\n",
    "\n"
   ]
  },
  {
   "cell_type": "code",
   "execution_count": 54,
   "metadata": {
    "collapsed": false
   },
   "outputs": [
    {
     "name": "stdout",
     "output_type": "stream",
     "text": [
      "Variable containing:\n",
      "\n",
      "Columns 0 to 7 \n",
      " -0.8202   7.2773   1.7581  -2.1656  -1.3041  -3.3534  -1.8478  -1.8616\n",
      " -4.5476   0.7416  -1.2497  -3.6737  11.4589  -3.2505  -2.5717   0.9189\n",
      " -1.8207   1.4430  -0.6530  -0.0100  -2.3903  -2.5991  -6.5629   9.1279\n",
      " -4.6457   3.0505   1.2968   4.0214  -4.5873  -2.5764  -9.6612  11.8386\n",
      "\n",
      "Columns 8 to 9 \n",
      "  4.1157  -1.1103\n",
      " -1.4588   2.8885\n",
      "  0.3829   1.0914\n",
      " -1.2266   1.4965\n",
      "[torch.FloatTensor of size 4x10]\n",
      "\n",
      "('0', '1', '2', '3', '4', '5', '6', '7', '8', '9')\n"
     ]
    }
   ],
   "source": [
    "outputs = net(Variable(images))\n",
    "print(outputs)\n",
    "print(classes)"
   ]
  },
  {
   "cell_type": "markdown",
   "metadata": {},
   "source": [
    "The outputs are \"energies\" for the 10 classes.\n",
    "\n",
    "By printing both the outputs and the classes, we can see that the network has a prediction for how likely it thinks each of the 4 images is to fall into each of the 10 classes. The higher the energy for a class, the more the network\n",
    "thinks that the image is of the particular class. For instance, if we look at row 1 column 2, we can see that this is a much higher value for that row than in the other columns. Column 2 corresponds to digit '1', which is what the network has predicted for the first image.\n",
    "\n",
    "The class with the highest energy is the one that the network is predicting. So to get the predicted class, let's get the index of the highest energy and show that prediction along with the grount truth class and images from above:"
   ]
  },
  {
   "cell_type": "code",
   "execution_count": 53,
   "metadata": {
    "collapsed": false
   },
   "outputs": [
    {
     "name": "stdout",
     "output_type": "stream",
     "text": [
      "Ground truth:      1     4     7     7\n",
      "Predicted:      1     4     7     7\n"
     ]
    },
    {
     "data": {
      "image/png": "[encoded data removed]",
      "text/plain": [
       "<matplotlib.figure.Figure at 0x10c67b2e8>"
      ]
     },
     "metadata": {},
     "output_type": "display_data"
    }
   ],
   "source": [
    "# show normalized images\n",
    "img=torchvision.utils.make_grid(images)\n",
    "plt.imshow(np.transpose(img.numpy(), (1, 2, 0)))\n",
    "# print labels\n",
    "print('Ground truth: ', ' '.join('%5s' % classes[labels[j]] for j in range(4)))\n",
    "\n",
    "_, predicted = torch.max(outputs.data, 1)\n",
    "\n",
    "print('Predicted: ', ' '.join('%5s' % classes[predicted[j]]\n",
    "                              for j in range(4)))"
   ]
  },
  {
   "cell_type": "markdown",
   "metadata": {},
   "source": [
    "The results seem pretty good, at least for these 4 images, showing the ground truth and prediction side-by-side.\n",
    "\n",
    "Let us look at how the network performs on the whole dataset again (which we checked after each epoch, so it should perform as well as it did after the last epoch)."
   ]
  },
  {
   "cell_type": "code",
   "execution_count": 48,
   "metadata": {
    "collapsed": false
   },
   "outputs": [
    {
     "name": "stdout",
     "output_type": "stream",
     "text": [
      "Accuracy of the network on the 10000 test images: 98 %\n"
     ]
    }
   ],
   "source": [
    "correct = 0\n",
    "total = 0\n",
    "for data in testloader:\n",
    "    images, labels = data\n",
    "    outputs = net(Variable(images))\n",
    "    _, predicted = torch.max(outputs.data, 1)\n",
    "    total += labels.size(0)\n",
    "    correct += (predicted == labels).sum()\n",
    "\n",
    "print('Accuracy of the network on the 10000 test images: %d %%' % (\n",
    "    100 * correct / total))"
   ]
  },
  {
   "cell_type": "markdown",
   "metadata": {},
   "source": [
    "The network clearly learned, with it ultimately performing at 98% accuracy averaged over all 10 classes.\n",
    "\n",
    "It is performing far better than chance, which is 10%. This is the measure of the accuracy across all classes, however.\n",
    "\n",
    "Next, let's look at the performance of predicting each class, as it is expected that not all classes trained equally well:"
   ]
  },
  {
   "cell_type": "code",
   "execution_count": 49,
   "metadata": {
    "collapsed": false
   },
   "outputs": [
    {
     "name": "stdout",
     "output_type": "stream",
     "text": [
      "Accuracy of     0 : 99 %\n",
      "Accuracy of     1 : 97 %\n",
      "Accuracy of     2 : 99 %\n",
      "Accuracy of     3 : 99 %\n",
      "Accuracy of     4 : 98 %\n",
      "Accuracy of     5 : 98 %\n",
      "Accuracy of     6 : 97 %\n",
      "Accuracy of     7 : 98 %\n",
      "Accuracy of     8 : 99 %\n",
      "Accuracy of     9 : 98 %\n"
     ]
    }
   ],
   "source": [
    "class_correct = list(0. for i in range(10))\n",
    "class_total = list(0. for i in range(10))\n",
    "for data in testloader:\n",
    "    images, labels = data\n",
    "    outputs = net(Variable(images))\n",
    "    _, predicted = torch.max(outputs.data, 1)\n",
    "    c = (predicted == labels).squeeze()\n",
    "    for i in range(4):\n",
    "        label = labels[i]\n",
    "        class_correct[label] += c[i]\n",
    "        class_total[label] += 1\n",
    "\n",
    "\n",
    "for i in range(10):\n",
    "    print('Accuracy of %5s : %2d %%' % (\n",
    "        classes[i], 100 * class_correct[i] / class_total[i]))"
   ]
  },
  {
   "cell_type": "markdown",
   "metadata": {},
   "source": [
    "98% accuracy average and 97-99% within each class. Amazing for only 2 training sessions."
   ]
  },
  {
   "cell_type": "markdown",
   "metadata": {},
   "source": [
    "Now we've tried a neural network both with and without convolution layers."
   ]
  }
 ],
 "metadata": {
  "kernelspec": {
   "display_name": "Python 3",
   "language": "python",
   "name": "python3"
  },
  "language_info": {
   "codemirror_mode": {
    "name": "ipython",
    "version": 3
   },
   "file_extension": ".py",
   "mimetype": "text/x-python",
   "name": "python",
   "nbconvert_exporter": "python",
   "pygments_lexer": "ipython3",
   "version": "3.6.0"
  }
 },
 "nbformat": 4,
 "nbformat_minor": 0
}
